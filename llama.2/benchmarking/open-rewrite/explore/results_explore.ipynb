{
 "cells": [
  {
   "cell_type": "code",
   "execution_count": 2,
   "metadata": {},
   "outputs": [],
   "source": [
    "import pandas as pd"
   ]
  },
  {
   "cell_type": "code",
   "execution_count": 5,
   "metadata": {},
   "outputs": [],
   "source": [
    "benchmark_itertion_results = [\n",
    "    {\"path\": \"llama.2/benchmarking/open-rewrite/outputs/2024-10-06/21-04-53/rougel_scores.csv\"},\n",
    "    {\"path\": \"llama.2/benchmarking/open-rewrite/outputs/2024-10-07/23-52-17/rougel_scores.csv\"},\n",
    "]\n"
   ]
  },
  {
   "cell_type": "code",
   "execution_count": 9,
   "metadata": {},
   "outputs": [
    {
     "data": {
      "text/plain": [
       "[np.float64(0.40140014421655595), np.float64(0.40140014421655595)]"
      ]
     },
     "execution_count": 9,
     "metadata": {},
     "output_type": "execute_result"
    }
   ],
   "source": [
    "# Load the data on each iteration, get the mean and std of the rouge-l scores\n",
    "# get current working directory\n",
    "rouge_l_scores = []\n",
    "for iteration in benchmark_itertion_results:\n",
    "    df = pd.read_csv(f\"../../../../{iteration[\"path\"]}\")\n",
    "    rouge_l_scores.append(df[\"Rouge-L-F\"].mean())\n",
    "rouge_l_scores"
   ]
  }
 ],
 "metadata": {
  "kernelspec": {
   "display_name": "ga-mlops",
   "language": "python",
   "name": "python3"
  },
  "language_info": {
   "codemirror_mode": {
    "name": "ipython",
    "version": 3
   },
   "file_extension": ".py",
   "mimetype": "text/x-python",
   "name": "python",
   "nbconvert_exporter": "python",
   "pygments_lexer": "ipython3",
   "version": "3.12.7"
  }
 },
 "nbformat": 4,
 "nbformat_minor": 2
}
