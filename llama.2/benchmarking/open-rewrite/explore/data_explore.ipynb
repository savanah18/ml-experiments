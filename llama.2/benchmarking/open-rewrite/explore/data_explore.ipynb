{
 "cells": [
  {
   "cell_type": "code",
   "execution_count": 2,
   "metadata": {},
   "outputs": [],
   "source": [
    "import pandas as pd\n",
    "import numpy as np"
   ]
  },
  {
   "cell_type": "code",
   "execution_count": 3,
   "metadata": {},
   "outputs": [],
   "source": [
    "filepath = \"datasets/openrewriteeval_aaai24.csv\""
   ]
  },
  {
   "cell_type": "code",
   "execution_count": 6,
   "metadata": {},
   "outputs": [
    {
     "name": "stdout",
     "output_type": "stream",
     "text": [
      "['others' 'formality' 'wiki' 'shorten' 'elaborate' 'paraphrase']\n"
     ]
    }
   ],
   "source": [
    "df = pd.read_csv(filepath)\n",
    "# check all unique tasks\n",
    "print(df['task'].unique())"
   ]
  },
  {
   "cell_type": "code",
   "execution_count": 8,
   "metadata": {},
   "outputs": [
    {
     "data": {
      "text/plain": [
       "(517, 4)"
      ]
     },
     "execution_count": 8,
     "metadata": {},
     "output_type": "execute_result"
    }
   ],
   "source": [
    "df[df['task'] == 'others'].shape"
   ]
  },
  {
   "cell_type": "code",
   "execution_count": 33,
   "metadata": {},
   "outputs": [
    {
     "name": "stdout",
     "output_type": "stream",
     "text": [
      "1629\n",
      "Section 612 of the Fair Credit Reporting Act (15 U.S.C. 1681j) is changed--(1) in subsection (f)(1), in the matter before subparagraph (A), by putting in``or subsection (h)'' after ``through (d)''; and(2) by putting in the following at the end:``(h) Free Disclosures Connecting With Credit Freeze.--In addition to the free yearly disclosure required under subsection (a)(1)(A), each buyer reporting agency that maintains a file on a buyer who requests a credit freeze under section 605A(i) can make all disclosures in accordance to section 609 once during any year without charge to the buyer if the buyer makes a request under section 609.''.\n",
      "\n",
      "Too informal, rewrite\n",
      "\n",
      "Section 612 of the Fair Credit Reporting Act (15 U.S.C. 1681j) is amended--(1) in subsection (f)(1), in the matter preceding subparagraph (A), by inserting ``or subsection (h)'' after ``through (d)''; and(2) by adding at the end the following:``(h) Free Disclosures in Connection With Credit Freeze.--In addition to the free annual disclosure required under subsection (a)(1)(A), each consumer reporting agency that maintains a file on a consumer who requests a credit freeze under section 605A(i) shall make all disclosures pursuant to section 609 once during any 12-month period without charge to the consumer if the consumer makes a request under section 609.''.\n"
     ]
    }
   ],
   "source": [
    "# Sample one row from the dataset with column source then print as a string\n",
    "# print(df.loc[0, 'source'])\n",
    "# get length of the dataset\n",
    "print(len(df))\n",
    "# sample a random index from the dataset\n",
    "idx = np.random.randint(0, len(df))\n",
    "print(df.loc[idx, 'source']+ '\\n')\n",
    "print(df.loc[idx, 'comment']+'\\n')\n",
    "print(df.loc[idx, 'target'])"
   ]
  },
  {
   "cell_type": "code",
   "execution_count": 34,
   "metadata": {},
   "outputs": [
    {
     "data": {
      "text/html": [
       "<div>\n",
       "<style scoped>\n",
       "    .dataframe tbody tr th:only-of-type {\n",
       "        vertical-align: middle;\n",
       "    }\n",
       "\n",
       "    .dataframe tbody tr th {\n",
       "        vertical-align: top;\n",
       "    }\n",
       "\n",
       "    .dataframe thead th {\n",
       "        text-align: right;\n",
       "    }\n",
       "</style>\n",
       "<table border=\"1\" class=\"dataframe\">\n",
       "  <thead>\n",
       "    <tr style=\"text-align: right;\">\n",
       "      <th></th>\n",
       "      <th>source</th>\n",
       "      <th>target</th>\n",
       "      <th>comment</th>\n",
       "      <th>task</th>\n",
       "    </tr>\n",
       "  </thead>\n",
       "  <tbody>\n",
       "    <tr>\n",
       "      <th>0</th>\n",
       "      <td>Caught red handed by the pedestrian’s roadbloc...</td>\n",
       "      <td>I was impeded by the sight of a red hand of th...</td>\n",
       "      <td>write a story about a person who is always late</td>\n",
       "      <td>others</td>\n",
       "    </tr>\n",
       "    <tr>\n",
       "      <th>1</th>\n",
       "      <td>If there were any suggestions of Mendelssohn i...</td>\n",
       "      <td>If there were any hints of Mendelssohn lurking...</td>\n",
       "      <td>write in style of roger ebert</td>\n",
       "      <td>others</td>\n",
       "    </tr>\n",
       "    <tr>\n",
       "      <th>2</th>\n",
       "      <td>Deep Tissue Massage is a form of bodywork that...</td>\n",
       "      <td>Deep Tissue Massage soothes tension in the bod...</td>\n",
       "      <td>add a call to action</td>\n",
       "      <td>others</td>\n",
       "    </tr>\n",
       "    <tr>\n",
       "      <th>3</th>\n",
       "      <td>The procedure for constructing your resume and...</td>\n",
       "      <td>The procedures of building our resume through ...</td>\n",
       "      <td>make it more friendly and personal</td>\n",
       "      <td>others</td>\n",
       "    </tr>\n",
       "    <tr>\n",
       "      <th>4</th>\n",
       "      <td>A. Action of the Board: The Board upon a findi...</td>\n",
       "      <td>A. Action of the Board:\\n-If the Board determi...</td>\n",
       "      <td>Use bullet points to make this more readable</td>\n",
       "      <td>others</td>\n",
       "    </tr>\n",
       "    <tr>\n",
       "      <th>...</th>\n",
       "      <td>...</td>\n",
       "      <td>...</td>\n",
       "      <td>...</td>\n",
       "      <td>...</td>\n",
       "    </tr>\n",
       "    <tr>\n",
       "      <th>1624</th>\n",
       "      <td>Singles athletes are expected to submit their ...</td>\n",
       "      <td>Our club expects singles athletes to deliver t...</td>\n",
       "      <td>Paraphrase</td>\n",
       "      <td>paraphrase</td>\n",
       "    </tr>\n",
       "    <tr>\n",
       "      <th>1625</th>\n",
       "      <td>Test design is important. Performance metrics ...</td>\n",
       "      <td>Test design is vital. Performance metrics shou...</td>\n",
       "      <td>Rephrase this text</td>\n",
       "      <td>paraphrase</td>\n",
       "    </tr>\n",
       "    <tr>\n",
       "      <th>1626</th>\n",
       "      <td>The control of fire was the first great discov...</td>\n",
       "      <td>The ability to manage fire was the first great...</td>\n",
       "      <td>Paraphrase this</td>\n",
       "      <td>paraphrase</td>\n",
       "    </tr>\n",
       "    <tr>\n",
       "      <th>1627</th>\n",
       "      <td>There are various types of identity which show...</td>\n",
       "      <td>Different kinds of identity reveal how a perso...</td>\n",
       "      <td>Reword this text</td>\n",
       "      <td>paraphrase</td>\n",
       "    </tr>\n",
       "    <tr>\n",
       "      <th>1628</th>\n",
       "      <td>Well, I find that the twenty years that I have...</td>\n",
       "      <td>Well, I have discovered in all the twenty year...</td>\n",
       "      <td>Use different wording</td>\n",
       "      <td>paraphrase</td>\n",
       "    </tr>\n",
       "  </tbody>\n",
       "</table>\n",
       "<p>1629 rows × 4 columns</p>\n",
       "</div>"
      ],
      "text/plain": [
       "                                                 source  \\\n",
       "0     Caught red handed by the pedestrian’s roadbloc...   \n",
       "1     If there were any suggestions of Mendelssohn i...   \n",
       "2     Deep Tissue Massage is a form of bodywork that...   \n",
       "3     The procedure for constructing your resume and...   \n",
       "4     A. Action of the Board: The Board upon a findi...   \n",
       "...                                                 ...   \n",
       "1624  Singles athletes are expected to submit their ...   \n",
       "1625  Test design is important. Performance metrics ...   \n",
       "1626  The control of fire was the first great discov...   \n",
       "1627  There are various types of identity which show...   \n",
       "1628  Well, I find that the twenty years that I have...   \n",
       "\n",
       "                                                 target  \\\n",
       "0     I was impeded by the sight of a red hand of th...   \n",
       "1     If there were any hints of Mendelssohn lurking...   \n",
       "2     Deep Tissue Massage soothes tension in the bod...   \n",
       "3     The procedures of building our resume through ...   \n",
       "4     A. Action of the Board:\\n-If the Board determi...   \n",
       "...                                                 ...   \n",
       "1624  Our club expects singles athletes to deliver t...   \n",
       "1625  Test design is vital. Performance metrics shou...   \n",
       "1626  The ability to manage fire was the first great...   \n",
       "1627  Different kinds of identity reveal how a perso...   \n",
       "1628  Well, I have discovered in all the twenty year...   \n",
       "\n",
       "                                              comment        task  \n",
       "0     write a story about a person who is always late      others  \n",
       "1                       write in style of roger ebert      others  \n",
       "2                                add a call to action      others  \n",
       "3                  make it more friendly and personal      others  \n",
       "4        Use bullet points to make this more readable      others  \n",
       "...                                               ...         ...  \n",
       "1624                                       Paraphrase  paraphrase  \n",
       "1625                               Rephrase this text  paraphrase  \n",
       "1626                                  Paraphrase this  paraphrase  \n",
       "1627                                 Reword this text  paraphrase  \n",
       "1628                            Use different wording  paraphrase  \n",
       "\n",
       "[1629 rows x 4 columns]"
      ]
     },
     "execution_count": 34,
     "metadata": {},
     "output_type": "execute_result"
    }
   ],
   "source": [
    "df"
   ]
  },
  {
   "cell_type": "code",
   "execution_count": null,
   "metadata": {},
   "outputs": [],
   "source": [
    "# convert the following lines to string and print\n",
    "\"Meet Jack, a man who seemed to have a sixth sense for missing appointments. His friends and family had grown accustomed to his tardiness, but it still managed to frustrate him. Jack was a good person, but his love of sleep and relaxation often led him to oversleep, only to realize with a jolt that he was running late.\\nIt started when Jack was in high school. His friends would text him at 7:00 AM on game day, reminding him to meet up at the stadium at 8:00 AM. Jack would wake up at 6:30 AM, stumble out of bed, and rush to the stadium, only to realize he had overslept. His friends would chuckle and say, \\\"Dude, you're going to miss the game!\\\"\\nAs Jack entered adulthood, his tardiness continued. He would wake up late, often by 30 minutes, and then rush to work, only to realize he had forgotten his lunch or his keys. His boss would roll his eyes and say, \\\"Jack, you're always late. How do you expect to get anything done?\\\"\\nDespite his friends' teasing, Jack tried to be more punctual. He set alarms on his phone, woke up earlier\""
   ]
  }
 ],
 "metadata": {
  "kernelspec": {
   "display_name": "Python 3 (ipykernel)",
   "language": "python",
   "name": "python3"
  },
  "language_info": {
   "codemirror_mode": {
    "name": "ipython",
    "version": 3
   },
   "file_extension": ".py",
   "mimetype": "text/x-python",
   "name": "python",
   "nbconvert_exporter": "python",
   "pygments_lexer": "ipython3",
   "version": "3.8.10"
  }
 },
 "nbformat": 4,
 "nbformat_minor": 2
}
